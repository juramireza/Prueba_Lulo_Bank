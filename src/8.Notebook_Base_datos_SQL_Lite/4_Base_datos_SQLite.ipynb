{
  "cells": [
    {
      "cell_type": "markdown",
      "source": [
        "#Cargue de los dataframes de proccessed en una base de datos SQL Lite"
      ],
      "metadata": {
        "id": "TnW0ZD-03Rfk",
        "application/vnd.databricks.v1+cell": {
          "title": "",
          "showTitle": false,
          "inputWidgets": {},
          "nuid": "7445a9b6-38f2-437e-ac8f-55d063b7dc28"
        }
      }
    },
    {
      "cell_type": "markdown",
      "source": [
        "#1.Instalación de paquetes e importación de librerías"
      ],
      "metadata": {
        "id": "HUDEmpVsB1Dm",
        "application/vnd.databricks.v1+cell": {
          "title": "",
          "showTitle": false,
          "inputWidgets": {},
          "nuid": "0aa14f59-869c-4109-b086-894832c55d53"
        }
      }
    },
    {
      "cell_type": "code",
      "source": [
        "#Se importan las librerías a utilizar \n",
        "import requests\n",
        "import pprint\n",
        "import pandas as pd\n",
        "import json\n",
        "import glob\n",
        "import sys\n",
        "from datetime import date, time, datetime\n",
        "import sqlite3"
      ],
      "metadata": {
        "id": "nSjNvq81B0cd",
        "application/vnd.databricks.v1+cell": {
          "title": "",
          "showTitle": false,
          "inputWidgets": {},
          "nuid": "c3eb0f56-a80e-456c-9994-8e5ac98b9953"
        }
      },
      "outputs": [],
      "execution_count": 1
    },
    {
      "cell_type": "markdown",
      "source": [
        "#2.Se monta el drive "
      ],
      "metadata": {
        "id": "Ou3PtLcGijIx"
      }
    },
    {
      "cell_type": "code",
      "source": [
        "#Se monta la unidad de drive con el fin de extraer los datos que almacenamos en nuestro Drive\n",
        "from google.colab import drive\n",
        "drive.mount('/content/drive')"
      ],
      "metadata": {
        "colab": {
          "base_uri": "https://localhost:8080/"
        },
        "id": "M-Day3YS8nct",
        "outputId": "47b9177d-ba55-4189-fa69-de5eae057a3d"
      },
      "execution_count": 2,
      "outputs": [
        {
          "output_type": "stream",
          "name": "stdout",
          "text": [
            "Drive already mounted at /content/drive; to attempt to forcibly remount, call drive.mount(\"/content/drive\", force_remount=True).\n"
          ]
        }
      ]
    },
    {
      "cell_type": "markdown",
      "source": [
        "#3.Lectura de archivos csv"
      ],
      "metadata": {
        "id": "H82QE2qU4DEi"
      }
    },
    {
      "cell_type": "code",
      "source": [
        "#Se lee el csv de la tabla de Género\n",
        "Genero = pd.read_csv(\"/content/drive/MyDrive/Prueba_Tecnica_Lulo_Blank/Consumo de datos/Simulacion_Data_Lake/2.Proccesed/Genero/Genero.csv\", sep=',')\n",
        "Genero=Genero[['Id_Genero','Genero']]\n",
        "\n",
        "#Se lee le archivo para la dimensión de de Dim_Show\n",
        "dim_show = pd.read_csv(\"/content/drive/MyDrive/Prueba_Tecnica_Lulo_Blank/Consumo de datos/Simulacion_Data_Lake/2.Proccesed/Embedded_show/embedded_show.csv\", sep=',')\n",
        "\n",
        "dim_show = dim_show.drop(['embedded_show_network'], axis=1)\n",
        "dim_show = dim_show.astype({'embedded_show_weight':'float64'})\n",
        "\n",
        "#Se lee le archivo para la dimensión de de Dim_Net_Work\n",
        "Dim_Net_Work = pd.read_csv(\"/content/drive/MyDrive/Prueba_Tecnica_Lulo_Blank/Consumo de datos/Simulacion_Data_Lake/2.Proccesed/Embedded_show_net_work/embedded_show_net_work.csv\", sep=',')\n",
        "\n",
        "#Se lee el archivo para la dimensión de \n",
        "WebChannel= pd.read_csv(\"/content/drive/MyDrive/Prueba_Tecnica_Lulo_Blank/Consumo de datos/Simulacion_Data_Lake/2.Proccesed/Embedded_show_Web_Channel/embedded_show_web_channel.csv\", sep=',')\n",
        "WebChannel =WebChannel.astype({'embedded_show_webChannel_id':'int64'})\n",
        "\n",
        "#Se lee el archivo para la construcción de la tabla de Fact Series \n",
        "Fact_Series = pd.read_csv(\"/content/drive/MyDrive/Prueba_Tecnica_Lulo_Blank/Consumo de datos/Simulacion_Data_Lake/2.Proccesed/Series/Series.csv\", sep=',')\n",
        "\n",
        "Fact_Series = Fact_Series.astype({'airdate':'datetime64',\n",
        "                                        'airtime':'datetime64', \n",
        "                                        'airstamp':'datetime64',\n",
        "                                        'image':'str',\n",
        "                                        'embedded_show_dvdCountry':'str', \n",
        "                                        'embedded_show_webChannel':'str',\n",
        "                                        'embedded_show_image':'str',\n",
        "                                        'embedded_show_webChannel_country':'str'\n",
        "                                       })\n",
        "\n",
        "# Se lee el archivo para la construcción de la tabla de Dim_Tiempo\n",
        "Dim_Tiempo = pd.read_csv(\"/content/drive/MyDrive/Prueba_Tecnica_Lulo_Blank/Consumo de datos/Simulacion_Data_Lake/2.Proccesed/Dim_Tiempo/Dim_Tiempo.csv\", sep=';')\n",
        "Dim_Tiempo=Dim_Tiempo.drop(['Week of Month','Day Name','Day of Week'],axis=1)\n"
      ],
      "metadata": {
        "id": "l1YYwri14KSI"
      },
      "execution_count": 3,
      "outputs": []
    },
    {
      "cell_type": "markdown",
      "source": [
        "#4.Escritura en base de datos en SQL lite de Dim_Genero"
      ],
      "metadata": {
        "application/vnd.databricks.v1+cell": {
          "title": "",
          "showTitle": false,
          "inputWidgets": {},
          "nuid": "a055b348-a6eb-4d20-a45d-8260443b3d55"
        },
        "id": "gEgS_RnU8lLr"
      }
    },
    {
      "cell_type": "code",
      "source": [
        "#Crear base de datos \n",
        "conn = sqlite3.connect('BD_Series.db')"
      ],
      "metadata": {
        "id": "RxFOyx9qkEek"
      },
      "execution_count": 4,
      "outputs": []
    },
    {
      "cell_type": "code",
      "source": [
        "\n",
        "##Se crea la tabla de genero \n",
        "create_sql=\"CREATE TABLE IF NOT EXISTS dim_genero (Id_Genero INTEGER NOT NULL PRIMARY KEY, Genero TEXT)\"\n",
        "cursor=conn.cursor()\n",
        "cursor.execute(create_sql)\n",
        "\n",
        "#Se llena la tabla de genero con el dataframe \n",
        "for row in Genero.itertuples():\n",
        "  insert_sql=f\"INSERT INTO dim_genero (Id_Genero, Genero) VALUES ({row[1]},'{row[2]}')\"\n",
        "  cursor.execute(insert_sql)\n",
        "\n",
        "#Se hace commit o actualiza la base de datos \n",
        "conn.commit()"
      ],
      "metadata": {
        "application/vnd.databricks.v1+cell": {
          "title": "",
          "showTitle": false,
          "inputWidgets": {},
          "nuid": "3eefe1e2-7913-4baa-9d3f-ba6245b629e9"
        },
        "id": "SOsQ-4ds8lLs"
      },
      "outputs": [],
      "execution_count": 5
    },
    {
      "cell_type": "markdown",
      "source": [
        "#5.Escritura en base de datos en SQL lite de Dim_Tiempo"
      ],
      "metadata": {
        "id": "pn0JBh3O39ch"
      }
    },
    {
      "cell_type": "code",
      "source": [
        "##Se crea la tabla de genero \n",
        "create_sql=\"CREATE TABLE IF NOT EXISTS dim_tiempo (Date TEXT NOT NULL PRIMARY KEY, Day INTEGER, DayName TEXT, WeekDayNum INTEGER, Quarter INTEGER, Year INTEGER, Year_half INTEGER, MonthNum INTEGER, MonthLong TEXT, Month TEXT, MonthYear TEXT, MonthYearLong TEXT )\"\n",
        "cursor=conn.cursor()\n",
        "cursor.execute(create_sql)\n",
        "\n",
        "#Se llena la tabla de genero con el dataframe \n",
        "for row in Dim_Tiempo.itertuples():\n",
        "  insert_sql=f\"INSERT INTO dim_tiempo (Date, Day, DayName, WeekDayNum, Quarter, Year, Year_half, MonthNum, MonthLong, Month, MonthYear, MonthYearLong) VALUES ('{row[1]}' , {row[2]}, '{row[3]}' , {row[4]} , {row[5]} , {row[6]} , {row[7]} , {row[8]} , '{row[9]}' , '{row[10]}' , '{row[11]}' , '{row[12]}')\"\n",
        "  cursor.execute(insert_sql)\n",
        "\n",
        "#Se hace commit o actualiza la base de datos \n",
        "conn.commit()"
      ],
      "metadata": {
        "id": "WiQxUEV9rCBW"
      },
      "execution_count": 6,
      "outputs": []
    },
    {
      "cell_type": "markdown",
      "source": [
        "#6.Construcción y escritura de la tabla de pais "
      ],
      "metadata": {
        "id": "x2Th5WsoBd9R"
      }
    },
    {
      "cell_type": "code",
      "source": [
        "#Seleccion de las columnas de country de Dim_Net_Work\n",
        "df1=Dim_Net_Work[['embedded_show_network_country_cod','embedded_show_network_country_timezone','embedded_show_network_country_name']]\n",
        "\n",
        "#Renombrar columnas \n",
        "df1=df1.rename(columns={'embedded_show_network_country_cod':'Cod_Country',\n",
        "                        'embedded_show_network_country_timezone':'timezone',\n",
        "                        'embedded_show_network_country_name':'Country_name'})\n",
        "\n",
        "#Selección de las columnas de WebChannel \n",
        "df2 = WebChannel[['embedded_show_webChannel_country_code','embedded_show_webChannel_country_timezone','embedded_show_webChannel_country_name']]\n",
        "\n",
        "#Renombrar columnas \n",
        "df2 = df2.rename(columns={'embedded_show_webChannel_country_code':'Cod_Country',\n",
        "                        'embedded_show_webChannel_country_timezone':'timezone',\n",
        "                        'embedded_show_webChannel_country_name':'Country_name'})\n",
        "\n",
        "#Selección de las columnas \n",
        "df3 = Fact_Series[['embedded_show_dvdCountry_code','embedded_show_dvdCountry_timezone','embedded_show_dvdCountry_name']]\n",
        "\n",
        "#Renombrar columnas \n",
        "df3 = df3.rename(columns={'embedded_show_dvdCountry_code':'Cod_Country',\n",
        "                        'embedded_show_dvdCountry_timezone':'timezone',\n",
        "                        'embedded_show_dvdCountry_name':'Country_name'})\n",
        "\n",
        "#Hacer append entre dataframes\n",
        "Dim_Country=pd.concat([df1,df2,df3])\n",
        "\n",
        "#Eliminar duplicados\n",
        "Dim_Country = Dim_Country.drop_duplicates(subset=['Cod_Country'])\n",
        "#Reiniciar el índice\n",
        "Dim_Country.reset_index(level=None, drop=True, inplace=True, col_level=0, col_fill='')\n",
        "\n",
        "\n",
        "##Se crea la tabla de Country\n",
        "create_sql=\"CREATE TABLE IF NOT EXISTS dim_country ( Cod_Country TEXT NOT NULL PRIMARY KEY, timezone TEXT, Country_name TEXT )\"\n",
        "cursor=conn.cursor()\n",
        "cursor.execute(create_sql)\n",
        "\n",
        "#Se llena la tabla de genero con el dataframe \n",
        "for row in Dim_Country.itertuples():\n",
        "  insert_sql=f\"INSERT INTO dim_country (Cod_Country, timezone, Country_name) VALUES ('{row[1]}' , '{row[2]}', '{row[3]}')\"\n",
        "  cursor.execute(insert_sql)\n",
        "\n",
        "#Se hace commit o actualiza la base de datos \n",
        "conn.commit()"
      ],
      "metadata": {
        "id": "OuzwUMVQBmt8"
      },
      "execution_count": 7,
      "outputs": []
    },
    {
      "cell_type": "markdown",
      "source": [
        "#7.Escritura en base de datos en SQL lite de Dim_Webchannel "
      ],
      "metadata": {
        "id": "Z9I9aVbuKGwx"
      }
    },
    {
      "cell_type": "code",
      "source": [
        "Dim_WebChannel=WebChannel[['embedded_show_webChannel_id','embedded_show_webChannel_name','embedded_show_webChannel_officialSite','embedded_show_webChannel_country_code']]\n",
        "\n",
        "##Se crea la tabla de Dim_Webchannel \n",
        "create_sql=\"CREATE TABLE IF NOT EXISTS dim_web_channel ( embedded_show_webChannel_id INTEGER NOT NULL PRIMARY KEY, embedded_show_webChannel_name TEXT, embedded_show_webChannel_officialSite TEXT ,embedded_show_webChannel_country_code TEXT, FOREIGN KEY (embedded_show_webChannel_country_code) REFERENCES dim_country(Cod_Country))\"\n",
        "cursor=conn.cursor()\n",
        "cursor.execute(create_sql)\n",
        "\n",
        "#Se llena la tabla de genero con el dataframe \n",
        "for row in Dim_WebChannel.itertuples():\n",
        "  insert_sql=f\"INSERT INTO dim_web_channel (embedded_show_webChannel_id, embedded_show_webChannel_name, embedded_show_webChannel_officialSite, embedded_show_webChannel_country_code) VALUES ({row[1]}, '{row[2]}', '{row[3]}','{row[4]}')\"\n",
        "  cursor.execute(insert_sql)\n",
        "\n",
        "#Se hace commit o actualiza la base de datos \n",
        "conn.commit()\n"
      ],
      "metadata": {
        "id": "xmffwLSDKeiu"
      },
      "execution_count": 8,
      "outputs": []
    },
    {
      "cell_type": "markdown",
      "source": [
        "#8.Escritura en base de datos en SQL lite de Dim_Net_Work"
      ],
      "metadata": {
        "id": "Xpqvntk_OgXH"
      }
    },
    {
      "cell_type": "code",
      "source": [
        "Dim_Net_Work = Dim_Net_Work[['embedded_show_network_id','embedded_show_network_name', 'embedded_show_network_officialSite','embedded_show_network_country_cod']]\n",
        "\n",
        "##Se crea la tabla de Dim_Webchannel \n",
        "create_sql=\"CREATE TABLE IF NOT EXISTS dim_net_work ( embedded_show_network_id INTEGER NOT NULL PRIMARY KEY, embedded_show_network_name TEXT, embedded_show_network_officialSite TEXT ,embedded_show_network_country_cod TEXT, FOREIGN KEY (embedded_show_network_country_cod) REFERENCES dim_country(Cod_Country))\"\n",
        "cursor=conn.cursor()\n",
        "cursor.execute(create_sql)\n",
        "\n",
        "#Se llena la tabla de genero con el dataframe \n",
        "for row in Dim_Net_Work.itertuples():\n",
        "  insert_sql=f\"INSERT INTO dim_net_work (embedded_show_network_id, embedded_show_network_name, embedded_show_network_officialSite, embedded_show_network_country_cod ) VALUES ({row[1]}, '{row[2]}', '{row[3]}','{row[4]}')\"\n",
        "  cursor.execute(insert_sql)\n",
        "\n",
        "#Se hace commit o actualiza la base de datos \n",
        "conn.commit()"
      ],
      "metadata": {
        "id": "e9rTe1h7Oh6C"
      },
      "execution_count": 9,
      "outputs": []
    },
    {
      "cell_type": "markdown",
      "source": [
        "#9.Escritura en base de datos en SQL lite de Dim_Show"
      ],
      "metadata": {
        "id": "wVd_XU7MTdkw"
      }
    },
    {
      "cell_type": "code",
      "source": [
        "##Hace falta rellenar la tabla como las otras para poder marcar las llaves primarias y llaves foráneas \n",
        "dim_show.to_sql(name=\"dim_show\",con=conn,if_exists='replace',index=False)\n",
        "conn.commit()"
      ],
      "metadata": {
        "id": "FvmotKdafjdp"
      },
      "execution_count": 10,
      "outputs": []
    },
    {
      "cell_type": "markdown",
      "source": [
        "#10.Escritura en base de datos en SQL lite de Fact_Series"
      ],
      "metadata": {
        "id": "2jWtgKNJiKAA"
      }
    },
    {
      "cell_type": "code",
      "source": [
        "##Hace falta rellenar la tabla como las otras para poder marcar las llaves primarias y llaves foráneas \n",
        "Fact_Series.to_sql(name=\"fact_series\", con=conn, if_exists='replace', index=False)\n",
        "conn.commit()"
      ],
      "metadata": {
        "id": "Ly6cgw1JiOBd"
      },
      "execution_count": 13,
      "outputs": []
    }
  ],
  "metadata": {
    "language_info": {
      "name": "python"
    },
    "kernelspec": {
      "name": "python3",
      "display_name": "Python 3"
    },
    "application/vnd.databricks.v1+notebook": {
      "notebookName": "3.Embedded_show",
      "dashboards": [],
      "notebookMetadata": {
        "pythonIndentUnit": 4
      },
      "language": "python",
      "widgets": {},
      "notebookOrigID": 3457076360397456
    },
    "colab": {
      "provenance": []
    }
  },
  "nbformat": 4,
  "nbformat_minor": 0
}